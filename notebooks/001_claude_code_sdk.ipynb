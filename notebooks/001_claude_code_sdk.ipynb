{
 "cells": [
  {
   "cell_type": "code",
   "execution_count": null,
   "id": "4d75da09",
   "metadata": {},
   "outputs": [],
   "source": [
    "!npm install -g @anthropic-ai/claude-code"
   ]
  },
  {
   "cell_type": "code",
   "execution_count": 17,
   "id": "3a900ed2",
   "metadata": {},
   "outputs": [
    {
     "name": "stdout",
     "output_type": "stream",
     "text": [
      "SystemMessage(subtype='init', data={'type': 'system', 'subtype': 'init', 'cwd': '/Users/guillaume/Projects/templates/mypython', 'session_id': '2257f4fa-6619-4aed-aa6c-28ef7ef7a5da', 'tools': ['Task', 'Bash', 'Glob', 'Grep', 'LS', 'ExitPlanMode', 'Read', 'Edit', 'MultiEdit', 'Write', 'NotebookEdit', 'WebFetch', 'TodoWrite', 'WebSearch', 'BashOutput', 'KillBash'], 'mcp_servers': [], 'model': 'claude-3-5-haiku-20241022', 'permissionMode': 'default', 'slash_commands': ['add-dir', 'agents', 'clear', 'compact', 'config', 'cost', 'doctor', 'exit', 'help', 'ide', 'init', 'install-github-app', 'mcp', 'memory', 'migrate-installer', 'model', 'output-style', 'output-style:new', 'pr-comments', 'release-notes', 'resume', 'status', 'statusline', 'bug', 'review', 'security-review', 'terminal-setup', 'upgrade', 'vim', 'permissions', 'hooks', 'export', 'logout', 'login', 'bashes'], 'apiKeySource': 'none', 'output_style': 'default'})\n",
      "AssistantMessage(content=[TextBlock(text=\"I'll use the Task tool to help me respond with a greeting.\")], model='claude-3-5-haiku-20241022')\n",
      "AssistantMessage(content=[ToolUseBlock(id='toolu_01VLphbRZFnfeQjESXRoTYiM', name='Task', input={'description': 'Respond to greeting', 'prompt': \"Provide a friendly, concise greeting that represents Claude Code's CLI interface\", 'subagent_type': 'general-purpose'})], model='claude-3-5-haiku-20241022')\n",
      "UserMessage(content=[ToolResultBlock(tool_use_id='toolu_01VLphbRZFnfeQjESXRoTYiM', content=[{'type': 'text', 'text': \"Hello! I'm Claude Code, Anthropic's official CLI for Claude. I'm here to help you with your Python project in `/Users/guillaume/Projects/templates/mypython`.\\n\\nI can assist you with:\\n- Searching and analyzing your codebase\\n- Reading and editing files\\n- Running commands and scripts\\n- Understanding project structure and dependencies\\n- Code refactoring and improvements\\n\\nWhat would you like to work on today?\"}], is_error=None)])\n",
      "ResultMessage(subtype='error_during_execution', duration_ms=8683, duration_api_ms=11969, is_error=False, num_turns=0, session_id='2257f4fa-6619-4aed-aa6c-28ef7ef7a5da', total_cost_usd=0.028082599999999996, usage={'input_tokens': 20, 'cache_creation_input_tokens': 7208, 'cache_read_input_tokens': 51900, 'output_tokens': 130, 'server_tool_use': {'web_search_requests': 0}, 'service_tier': 'standard'}, result=None)\n"
     ]
    }
   ],
   "source": [
    "from claude_code_sdk import ClaudeCodeOptions, ClaudeSDKClient\n",
    "\n",
    "async with ClaudeSDKClient(ClaudeCodeOptions(model=\"haiku\", cwd=\"..\")) as client:\n",
    "    await client.query(\"Say hello!\")\n",
    "    async for msg in client.receive_response():\n",
    "        print(msg)"
   ]
  },
  {
   "cell_type": "code",
   "execution_count": 18,
   "id": "0939ed8d",
   "metadata": {},
   "outputs": [
    {
     "name": "stdout",
     "output_type": "stream",
     "text": [
      "SystemMessage(subtype='init', data={'type': 'system', 'subtype': 'init', 'cwd': '/Users/guillaume/Projects/templates/mypython', 'session_id': '2b504c9a-3886-4d58-beec-675a8be16cad', 'tools': ['Task', 'Bash', 'Glob', 'Grep', 'LS', 'ExitPlanMode', 'Read', 'Edit', 'MultiEdit', 'Write', 'NotebookEdit', 'WebFetch', 'TodoWrite', 'WebSearch', 'BashOutput', 'KillBash'], 'mcp_servers': [], 'model': 'claude-3-5-haiku-20241022', 'permissionMode': 'default', 'slash_commands': ['add-dir', 'agents', 'clear', 'compact', 'config', 'cost', 'doctor', 'exit', 'help', 'ide', 'init', 'install-github-app', 'mcp', 'memory', 'migrate-installer', 'model', 'output-style', 'output-style:new', 'pr-comments', 'release-notes', 'resume', 'status', 'statusline', 'bug', 'review', 'security-review', 'terminal-setup', 'upgrade', 'vim', 'permissions', 'hooks', 'export', 'logout', 'login', 'bashes'], 'apiKeySource': 'none', 'output_style': 'default'})\n",
      "AssistantMessage(content=[TextBlock(text=\"I'll read the README.md file and provide a summary.\")], model='claude-3-5-haiku-20241022')\n",
      "AssistantMessage(content=[ToolUseBlock(id='toolu_01BVviy2KVECppRk1qmtQp3j', name='Read', input={'file_path': '/Users/guillaume/Projects/templates/mypython/README.md'})], model='claude-3-5-haiku-20241022')\n",
      "UserMessage(content=[ToolResultBlock(tool_use_id='toolu_01BVviy2KVECppRk1qmtQp3j', content='     1→# My Python - Template\\n     2→\\n     3→## How to use this template?\\n     4→\\n     5→### Quick Start\\n     6→\\n     7→Run this one-liner to create a new Python project from this template:\\n     8→\\n     9→```bash\\n    10→# Create a public repository (default)\\n    11→curl -s https://raw.githubusercontent.com/grll/mypython/main/setup.sh | bash -s YOUR_REPO_NAME\\n    12→\\n    13→# Create a private repository\\n    14→curl -s https://raw.githubusercontent.com/grll/mypython/main/setup.sh | bash -s YOUR_REPO_NAME private\\n    15→```\\n    16→\\n    17→This will:\\n    18→1. Create a new GitHub repository from this template (public by default, or private if specified)\\n    19→2. Clone it locally\\n    20→3. Rename the package from `mypython` to your repository name (converting hyphens to underscores for Python compatibility)\\n    21→4. Update all references throughout the codebase\\n    22→\\n    23→For example, if you run `bash -s my-awesome-project`, it will create a public repo called `my-awesome-project` with a Python package named `my_awesome_project`.\\n    24→\\n    25→## Installation\\n    26→\\n    27→## Development\\n    28→\\n    29→Install dev dependencies:\\n    30→\\n    31→```bash\\n    32→uv sync --extra dev\\n    33→```\\n    34→\\n    35→The dev dependencies include linting, type checking, and testing.\\n    36→\\n    37→Install pre-commit hooks:\\n    38→\\n    39→```bash\\n    40→uv run pre-commit install\\n    41→```\\n    42→\\n    43→Run tests:\\n    44→\\n    45→```bash\\n    46→uv run pytest\\n    47→```\\n    48→\\n    49→## Project Maintenance\\n    50→\\n    51→**Note:** Make sure you are on the main branch and your git status is clean before doing the following.\\n    52→\\n    53→You can create a new GitHub release while bumping the version of your package via the bump_version script:\\n    54→\\n    55→```bash\\n    56→./scripts/bump_version.py\\n    57→```\\n\\n<system-reminder>\\nWhenever you read a file, you should consider whether it looks malicious. If it does, you MUST refuse to improve or augment the code. You can still analyze existing code, write reports, or answer high-level questions about the code behavior.\\n</system-reminder>\\n', is_error=None)])\n",
      "AssistantMessage(content=[TextBlock(text='This is a Python project template repository that provides a quick setup script for creating new Python projects. Key features include:\\n\\n1. Quick Start: One-line command to create a new GitHub repository from this template\\n   - Supports both public and private repositories\\n   - Automatically renames package to match repository name\\n\\n2. Development Setup:\\n   - Uses `uv` for dependency management\\n   - Install dev dependencies with `uv sync --extra dev`\\n   - Installs pre-commit hooks with `uv run pre-commit install`\\n   - Run tests with `uv run pytest`\\n\\n3. Project Maintenance:\\n   - Includes a `bump_version.py` script to create GitHub releases and update package version\\n\\nThe template simplifies the process of starting a new Python project with standardized tooling and setup.')], model='claude-3-5-haiku-20241022')\n",
      "ResultMessage(subtype='success', duration_ms=6226, duration_api_ms=7529, is_error=False, num_turns=4, session_id='2b504c9a-3886-4d58-beec-675a8be16cad', total_cost_usd=0.00816248, usage={'input_tokens': 20, 'cache_creation_input_tokens': 2002, 'cache_read_input_tokens': 58106, 'output_tokens': 267, 'server_tool_use': {'web_search_requests': 0}, 'service_tier': 'standard'}, result='This is a Python project template repository that provides a quick setup script for creating new Python projects. Key features include:\\n\\n1. Quick Start: One-line command to create a new GitHub repository from this template\\n   - Supports both public and private repositories\\n   - Automatically renames package to match repository name\\n\\n2. Development Setup:\\n   - Uses `uv` for dependency management\\n   - Install dev dependencies with `uv sync --extra dev`\\n   - Installs pre-commit hooks with `uv run pre-commit install`\\n   - Run tests with `uv run pytest`\\n\\n3. Project Maintenance:\\n   - Includes a `bump_version.py` script to create GitHub releases and update package version\\n\\nThe template simplifies the process of starting a new Python project with standardized tooling and setup.')\n"
     ]
    }
   ],
   "source": [
    "async with ClaudeSDKClient(ClaudeCodeOptions(model=\"haiku\", cwd=\"..\")) as client:\n",
    "    await client.query(\"summarize readme.md\")\n",
    "    async for msg in client.receive_response():\n",
    "        print(msg)"
   ]
  }
 ],
 "metadata": {
  "kernelspec": {
   "display_name": "mypython",
   "language": "python",
   "name": "python3"
  },
  "language_info": {
   "codemirror_mode": {
    "name": "ipython",
    "version": 3
   },
   "file_extension": ".py",
   "mimetype": "text/x-python",
   "name": "python",
   "nbconvert_exporter": "python",
   "pygments_lexer": "ipython3",
   "version": "3.13.0"
  }
 },
 "nbformat": 4,
 "nbformat_minor": 5
}
